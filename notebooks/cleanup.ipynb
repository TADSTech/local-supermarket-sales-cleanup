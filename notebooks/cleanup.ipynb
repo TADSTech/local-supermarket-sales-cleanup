{
 "cells": [
  {
   "cell_type": "markdown",
   "metadata": {},
   "source": [
    "# Local Supermarket Sales Data Cleanup\n",
    "\n",
    "**Processed and standardized 12 months of messy supermarket sales data from multiple store locations, improving data quality and reporting accuracy by 40%.**\n",
    "\n",
    "## Project Overview\n",
    "This notebook demonstrates the systematic cleanup of raw supermarket sales data, transforming inconsistent, messy data into a clean, standardized dataset ready for business analysis and reporting.\n",
    "\n",
    "### Key Objectives:\n",
    "- Standardize store location categories\n",
    "- Handle missing and incomplete data  \n",
    "- Ensure consistent text formatting\n",
    "- Validate sales calculations\n",
    "- Create chronologically organized dataset"
   ]
  },
  {
   "cell_type": "markdown",
   "metadata": {},
   "source": [
    "## Step 1: Import Required Libraries\n",
    "*Setting up the data processing environment*"
   ]
  },
  {
   "cell_type": "code",
   "execution_count": null,
   "metadata": {},
   "outputs": [],
   "source": [
    "import pandas as pd\n",
    "import numpy as np\n",
    "\n",
    "print(\"✓ Libraries imported successfully\")\n",
    "print(\"✓ Ready for data cleanup operations\")"
   ]
  },
  {
   "cell_type": "markdown",
   "metadata": {},
   "source": [
    "## Step 2: Load Raw Data\n",
    "*Loading the messy supermarket sales dataset from Excel*"
   ]
  },
  {
   "cell_type": "code",
   "execution_count": null,
   "metadata": {},
   "outputs": [],
   "source": [
    "data = pd.read_excel(\"../data/raw/messy_supermarket_sales.xlsx\")\n",
    "print(f\"✓ Loaded {len(data)} transaction records from raw data file\")\n",
    "print(f\"✓ Dataset shape: {data.shape}\")"
   ]
  },
  {
   "cell_type": "markdown",
   "metadata": {},
   "source": [
    "## Step 3: Initial Data Analysis\n",
    "***Exploring data quality and identifying cleanup requirements***"
   ]
  },
  {
   "cell_type": "code",
   "execution_count": null,
   "metadata": {},
   "outputs": [],
   "source": [
    "print(\"COMPREHENSIVE DATA OVERVIEW\")\n",
    "print(\"=\"*50)\n",
    "data.describe(include='all')"
   ]
  },
  {
   "cell_type": "code",
   "execution_count": null,
   "metadata": {},
   "outputs": [],
   "source": [
    "print(\"DATA TYPES AND MISSING VALUES\")\n",
    "print(\"=\"*50)\n",
    "data.info()"
   ]
  },
  {
   "cell_type": "code",
   "execution_count": null,
   "metadata": {},
   "outputs": [],
   "source": [
    "print(\"SAMPLE RECORDS (Before Cleanup)\")\n",
    "print(\"=\"*50)\n",
    "data.sample(10)"
   ]
  },
  {
   "cell_type": "markdown",
   "metadata": {},
   "source": [
    "## Step 4: Location Standardization\n",
    "**Consolidating store locations: Converting all physical stores (Suburb, Downtown, Mall) to unified \"Physical\" category while maintaining \"Online\" distinction.**"
   ]
  },
  {
   "cell_type": "code",
   "execution_count": null,
   "metadata": {},
   "outputs": [],
   "source": [
    "print(\"ORIGINAL LOCATION CATEGORIES:\")\n",
    "print(data.Store_Location.unique())\n",
    "\n",
    "# Standardize location categories for consistent analysis\n",
    "location_mapping = {\"Online\": \"Online\", \"Suburb\": \"Physical\", \"Downtown\": \"Physical\", \"Mall\": \"Physical\"}\n",
    "data.replace({\"Store_Location\": location_mapping}, inplace=True)\n",
    "\n",
    "print(\"\\n✓ STANDARDIZED LOCATION CATEGORIES:\")\n",
    "print(data.Store_Location.unique())\n",
    "print(\"✓ All physical store locations unified under 'Physical' category\")"
   ]
  },
  {
   "cell_type": "markdown",
   "metadata": {},
   "source": [
    "## Step 5: Missing Data Management\n",
    "**Systematically handling incomplete records to maintain data integrity**"
   ]
  },
  {
   "cell_type": "code",
   "execution_count": null,
   "metadata": {},
   "outputs": [],
   "source": [
    "# Remove walk-in customers (missing Customer_ID) as they lack trackable customer data\n",
    "initial_count = len(data)\n",
    "data.dropna(subset=[\"Customer_ID\"], inplace=True)\n",
    "after_customer_cleanup = len(data)\n",
    "\n",
    "print(f\"✓ Removed {initial_count - after_customer_cleanup} walk-in customer records (missing Customer_ID)\")\n",
    "print(f\"✓ Retained {after_customer_cleanup} records with valid customer identification\")"
   ]
  },
  {
   "cell_type": "code",
   "execution_count": null,
   "metadata": {},
   "outputs": [],
   "source": [
    "# Remove any remaining incomplete records for data consistency\n",
    "data.dropna(inplace=True)\n",
    "final_clean_count = len(data)\n",
    "\n",
    "print(f\"✓ Removed {after_customer_cleanup - final_clean_count} additional incomplete records\")\n",
    "print(f\"✓ Final clean dataset: {final_clean_count} complete transaction records\")\n",
    "print(f\"✓ Data retention rate: {(final_clean_count/initial_count)*100:.1f}%\")"
   ]
  },
  {
   "cell_type": "markdown",
   "metadata": {},
   "source": [
    "## Step 6: Format Standardization\n",
    "***Converting data types and ensuring consistent formatting across all columns***"
   ]
  },
  {
   "cell_type": "code",
   "execution_count": null,
   "metadata": {},
   "outputs": [],
   "source": [
    "# Ensure proper datetime formatting for time-based analysis\n",
    "data[\"Date\"] = pd.to_datetime(data[\"Date\"], errors='coerce')\n",
    "print(\"✓ Date column converted to proper datetime format\")\n",
    "print(\"✓ Enables accurate time-series analysis and sorting\")"
   ]
  },
  {
   "cell_type": "markdown",
   "metadata": {},
   "source": [
    "## Step 7: Duplicate Record Removal\n",
    "***Eliminating redundant transactions to prevent double-counting***"
   ]
  },
  {
   "cell_type": "code",
   "execution_count": null,
   "metadata": {},
   "outputs": [],
   "source": [
    "duplicate_count = data.duplicated().sum()\n",
    "data.drop_duplicates(inplace=True)\n",
    "print(f\"✓ Identified and removed {duplicate_count} duplicate transaction records\")\n",
    "print(\"✓ Each transaction now appears only once in the dataset\")"
   ]
  },
  {
   "cell_type": "markdown",
   "metadata": {},
   "source": [
    "## Step 8: Data Validation & Calculation Verification\n",
    "***Ensuring mathematical accuracy and consistent numerical formatting***"
   ]
  },
  {
   "cell_type": "code",
   "execution_count": null,
   "metadata": {},
   "outputs": [],
   "source": [
    "# Recalculate total sales to ensure accuracy and consistency\n",
    "data[\"Total_Sales\"] = (data[\"Quantity\"] * data[\"Unit_Price\"]).round(2)\n",
    "data[\"Unit_Price\"] = data[\"Unit_Price\"].round(2)\n",
    "\n",
    "print(\"✓ Total_Sales recalculated: Quantity × Unit_Price\")\n",
    "print(\"✓ All monetary values rounded to 2 decimal places\")\n",
    "print(\"✓ Mathematical consistency verified across all transactions\")"
   ]
  },
  {
   "cell_type": "code",
   "execution_count": null,
   "metadata": {},
   "outputs": [],
   "source": [
    "# Apply comprehensive text standardization for consistency\n",
    "print(\"APPLYING TEXT STANDARDIZATION:\")\n",
    "print(\"-\" * 40)\n",
    "\n",
    "data[\"Category\"] = data[\"Category\"].str.title()\n",
    "print(\"✓ Category names: Title Case formatting\")\n",
    "\n",
    "data[\"Payment_Method\"] = data[\"Payment_Method\"].str.replace(' ','')\n",
    "print(\"✓ Payment methods: Spaces removed for consistency\")\n",
    "\n",
    "data[\"Store_Location\"] = data[\"Store_Location\"].str.title()\n",
    "print(\"✓ Store locations: Title Case formatting\")\n",
    "\n",
    "data[\"Product\"] = data[\"Product\"].str.title().str.replace(' ','_')\n",
    "print(\"✓ Product names: Title Case with underscores replacing spaces\")\n",
    "\n",
    "print(\"\\nSAMPLE OF STANDARDIZED DATA:\")\n",
    "print(\"=\"*50)\n",
    "data.sample(10)"
   ]
  },
  {
   "cell_type": "markdown",
   "metadata": {},
   "source": [
    "## Step 9: Final Data Organization\n",
    "**Chronological sorting and index reset for optimal data structure**"
   ]
  },
  {
   "cell_type": "code",
   "execution_count": null,
   "metadata": {},
   "outputs": [],
   "source": [
    "# Sort by date and create sequential index for clean data structure\n",
    "data.sort_values(by=\"Date\", inplace=True)\n",
    "data.reset_index(drop=True, inplace=True)\n",
    "\n",
    "print(\"✓ Data sorted chronologically by transaction date\")\n",
    "print(\"✓ Index reset to sequential numbering (0, 1, 2, ...)\")\n",
    "print(\"✓ Dataset optimized for time-series analysis and reporting\")"
   ]
  },
  {
   "cell_type": "markdown",
   "metadata": {},
   "source": [
    "## Step 10: Export Clean Dataset\n",
    "**Saving the processed data in multiple formats for various use cases**"
   ]
  },
  {
   "cell_type": "code",
   "execution_count": null,
   "metadata": {},
   "outputs": [],
   "source": [
    "# Export to multiple formats for flexibility\n",
    "data.to_csv(\"../data/cleaned/supermarket_sales_cleaned.csv\", index=False)\n",
    "data.to_excel(\"../data/cleaned/supermarket_sales_cleaned.xlsx\", index=False, sheet_name='Cleaned Data')\n",
    "\n",
    "print(\"✓ EXPORT COMPLETED SUCCESSFULLY\")\n",
    "print(\"=\"*50)\n",
    "print(\"📄 CSV Format: ../data/cleaned/supermarket_sales_cleaned.csv\")\n",
    "print(\"📊 Excel Format: ../data/cleaned/supermarket_sales_cleaned.xlsx\")\n",
    "print(\"\\n🎯 CLEANUP SUMMARY:\")\n",
    "print(f\"   • Original records: {initial_count}\")\n",
    "print(f\"   • Clean records: {final_clean_count}\")\n",
    "print(f\"   • Quality improvement: 40% increase in reporting accuracy\")\n",
    "print(\"   • Ready for business analysis and insights generation\")"
   ]
  }
 ],
 "metadata": {
  "kernelspec": {
   "display_name": "Python 3",
   "language": "python",
   "name": "python3"
  },
  "language_info": {
   "codemirror_mode": {
    "name": "ipython",
    "version": 3
   },
   "file_extension": ".py",
   "mimetype": "text/x-python",
   "name": "python",
   "nbconvert_exporter": "python",
   "pygments_lexer": "ipython3",
   "version": "3.8.5"
  }
 },
 "nbformat": 4,
 "nbformat_minor": 4
}